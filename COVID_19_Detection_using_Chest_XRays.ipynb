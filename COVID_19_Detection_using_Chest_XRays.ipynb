{
  "nbformat": 4,
  "nbformat_minor": 0,
  "metadata": {
    "colab": {
      "name": "COVID-19 Detection using Chest XRays.ipynb",
      "provenance": [],
      "collapsed_sections": [],
      "authorship_tag": "ABX9TyOi/u3EAoSjHfz5SDKdAz2l",
      "include_colab_link": true
    },
    "kernelspec": {
      "name": "python3",
      "display_name": "Python 3"
    },
    "language_info": {
      "name": "python"
    },
    "accelerator": "GPU"
  },
  "cells": [
    {
      "cell_type": "markdown",
      "metadata": {
        "id": "view-in-github",
        "colab_type": "text"
      },
      "source": [
        "<a href=\"https://colab.research.google.com/github/anandababugudipudi/COVID-19-Detection-using-Chest-Xray/blob/master/COVID_19_Detection_using_Chest_XRays.ipynb\" target=\"_parent\"><img src=\"https://colab.research.google.com/assets/colab-badge.svg\" alt=\"Open In Colab\"/></a>"
      ]
    },
    {
      "cell_type": "markdown",
      "metadata": {
        "id": "2MXyspuHdcK3"
      },
      "source": [
        "#**COVID-19 Detection using Chest X-Rays**\n",
        "\n",
        "The pandemic, originated by Novel Coronavirus-2019 (COVID-19), continuing its devastating effect on the health, well-being, and economy of the global population. The early detection and diagnosis of COVID-19 and the accurate separation of COVID infected cases at the lowest cost in the early stage is the main challenge in the current scenario. A critical step to restrain this pandemic is the early detection of COVID-19 in the human body, to constraint the exposure and control the spread of the virus. Chest X-Rays are one of the non-invasive tools to detect this disease as the manual PCR diagnosis process is quite tedious and time-consuming. Concerning the novelty of the disease, diagnostic methods based on radiological images suffer from shortcomings despite their many applications in diagnostic centers. Accordingly, medical and computer researchers tend to use machine-learning models to analyze radiology images.\n",
        "<br><br>\n",
        "![COVID-19](https://eyewire.news/wp-content/uploads/sites/2/2020/03/banner.png)\n",
        "<br><br>\n",
        "\n",
        "In this project, we have attempted to develop an automated COVID-19 classifer, utilizing available COVID and non-COVID Chest X-Ray datasets. "
      ]
    },
    {
      "cell_type": "markdown",
      "metadata": {
        "id": "lOX0quPEgoh-"
      },
      "source": [
        "###**The following are the steps involved in this project:**\n",
        "- Importing the necessary packages\n",
        "- Data Collection and Preprocessing\n",
        "- Building a CNN based model in Keras\n",
        "- Compiling the Model\n",
        "- Processing the Training and Testing Images\n",
        "- Training the Model\n",
        "- Evaluating the Model\n",
        "- Saving the Model\n",
        "- Creating a Classification Method\n",
        "\n",
        "\n",
        "###**Let's start implementing the above steps one by one:**"
      ]
    },
    {
      "cell_type": "markdown",
      "metadata": {
        "id": "T0Asw7clh62p"
      },
      "source": [
        "###**Importing the necessary packages:**"
      ]
    },
    {
      "cell_type": "code",
      "metadata": {
        "id": "XgUBvi2I9GCy"
      },
      "source": [
        "# Import packages\n",
        "import numpy as np\n",
        "import pandas as pd\n",
        "from keras.layers import *\n",
        "from keras.models import *\n",
        "from keras.preprocessing import image\n",
        "from keras.metrics import accuracy, binary_crossentropy\n",
        "from keras.optimizers import Adam\n",
        "from keras.regularizers import l2\n",
        "import os\n",
        "from keras.models import load_model\n",
        "from keras.preprocessing import image"
      ],
      "execution_count": null,
      "outputs": []
    },
    {
      "cell_type": "markdown",
      "metadata": {
        "id": "Uk7JGsbuiREJ"
      },
      "source": [
        "###**Data Collection and Preprocessing:**\n",
        "####**Data Collection:**\n",
        "For building this project we have to mainly rely on two types of Chest X-Rays. They are:\n",
        "1. **COVID** infected patients Chest X-Rays,\n",
        "2. **Non-COVID** patients Chest X-Rays like Pneumonia, Tuberculosis etc.\n",
        "\n",
        "For **COVID** X-Rays we have downloaded the Chest X-Rays from [GitHub.](https://github.com/ieee8023/covid-chestxray-dataset) (Mix of COVID Positive and other diseases)\n",
        "\n",
        "And for **Non-COVID** X-Rays we have downloaded the data from [Kaggle.](https://www.kaggle.com/paultimothymooney/chest-xray-pneumonia) (Chest X-Rays of Pneunomia patients)\n",
        "\n",
        "####**Data Preprocessing:**\n",
        "There are a total of 930 Chest X-Rays available at the time of doing this project, out of which 196 are labelled as **COVID Positive.** So we have extracted those images from the complete dataset using the metadata. \n",
        "\n",
        "And from the Pneunomia Chest X-Rays Dataset we have selected the equal number of **Normal Chest X-Rays** (196 Normal Chest X-Rays) and labelled them as **COVID Negative or Non COVID.** \n",
        "\n",
        "####**Data Split:**\n",
        "Out of the total available 392 X-Rays (196-COVID, 196-Non COVID), 25% (49 X-Rays) are separated for Validation and the remaining 75% (147 X-Rays) are used for Training the model.\n",
        "\n",
        "Seperated them in Train and Validation Datasets and organised in folders as follows:\n",
        "- Dataset\n",
        "  - Train\n",
        "    - COVID\n",
        "    - Normal\n",
        "  - Validation\n",
        "    - COVID\n",
        "    - Normal\n",
        "\n",
        "    and uploaded them to Dropbox for future use. The link of the seggregated data set is given [here](https://www.dropbox.com/s/tlsdn617iymz3bf/CovidDataset.zip) in `.zip` format.\n"
      ]
    },
    {
      "cell_type": "code",
      "metadata": {
        "id": "j2o2yejS8PZ0"
      },
      "source": [
        "# Downloading the dataset zip file from Dropbox\n",
        "if (not os.path.exists(\"CovidDataset.zip\")):\n",
        "  # Download the dataset file from dropbox\n",
        "  !wget https://www.dropbox.com/s/tlsdn617iymz3bf/CovidDataset.zip\n",
        "if (not os.path.exists(\"Dataset/\")):\n",
        "  # Unzip the filed\n",
        "  !unzip CovidDataset.zip"
      ],
      "execution_count": null,
      "outputs": []
    },
    {
      "cell_type": "code",
      "metadata": {
        "id": "yBPPkrRb87hD"
      },
      "source": [
        "# Declaring the path variables\n",
        "TRAIN_PATH = \"DataSet/Train\"\n",
        "VAL_PATH = \"DataSet/Val\""
      ],
      "execution_count": null,
      "outputs": []
    },
    {
      "cell_type": "markdown",
      "metadata": {
        "id": "mEkvN6v4ohW9"
      },
      "source": [
        "###**Building a CNN based model in Keras:**\n",
        "\n",
        "In this project implementation we have used Convolutional Neural Networks (CNN or CovnNet), a complex feed forward neural networks for image classification with high accuracy. The CNN follows a hierarchical model which works on building a network, like a funnel which finally gives out a fully-connected layer where all the neurons are connected to each other and the output is processed. \n",
        "<br>\n",
        "<br>\n",
        "![CNN](https://www.researchgate.net/profile/Md-Mahin/publication/332407214/figure/fig2/AS:747438860156930@1555214719430/Proposed-adopted-Convolutional-Neural-Network-CNN-model.png)\n",
        "<br>\n",
        "<br>\n",
        "We have added all the layers in a Sequential model. As we are classifying images we used `Conv2D` Layers stacked upon eachother.\n",
        "\n",
        "**Conv2D** is a 2D Convolution Layer which creates a convolution kernel that is  with layers input which helps produce a tensor of outputs. In image processing kernel is a convolution matrix or masks which can be used for blurring, sharpening, embossing, edge detection, and more by doing a convolution between a kernel and an image. In this we use the appropriate number of filters which are to be obtained from the image. It is always in powers of 2. \n",
        "\n",
        "**MaxPooling2D** layers are used to reduce the dimensions of the feature maps as it reduces the number of parameters to learn and the amount of computation performed in the network. The pooling layer summarises the features present in a region of the feature map generated by a convolution layer\n",
        "\n",
        "**Dropout** layers are added to prevent a model from overfitting and increasing the time and space complexity. This happens due to the co-adoptation of individual neurons in NN. Dropout works by randomly setting the outgoing edges of hidden units (neurons that make up hidden layers) to 0 at each update of the training phase. The dropout rate is between 0 and 1.\n",
        "\n",
        "**Flatten** layer converts the pooled feature map to a single column that is passed to the fully connected layer. For example, if flatten is applied to layer having input shape as (batch_size, 2,2), then the output shape of the layer will be (batch_size, 4).\n",
        "\n",
        "**Dense** layer connects to each neuron in the previous layer and recieves inputs from all the neurons. Dense layers adds an interesting non-linearity property by modelling any mathematical function. The dense layer is found to be the most commonly used layer in the models.\n",
        "\n",
        "The input layer of the model is a `Cov2D` layer with `32 filters`, kernel size of `(3, 3)`, input shape of `(224, 224, 3)` and activation function `'relu'`.\n",
        "\n",
        "Then a stack of `Conv2D` layer, `MaxPooling2D` Layer and a `Dropout` layers are created for feature extraction. \n",
        "\n",
        "We have used `sigmoid` activation function in the output layer as we have to predict whether it is a COVID or Non-COVID X-Ray which is a binary classification problem. "
      ]
    },
    {
      "cell_type": "code",
      "metadata": {
        "id": "RXjR3BZ49SOQ"
      },
      "source": [
        "# Build CNN Based Model in Keras\n",
        "model = Sequential()\n",
        "model.add(Conv2D(32, kernel_size = (3,3), activation = 'relu', input_shape = (224, 224, 3)))\n",
        "  \n",
        "model.add(Conv2D(64, (3, 3), activation = 'relu'))\n",
        "model.add(MaxPooling2D(pool_size = (2, 2)))\n",
        "model.add(Dropout(0.25))\n",
        "\n",
        "model.add(Conv2D(64, (3, 3), activation = 'relu'))\n",
        "model.add(MaxPooling2D(pool_size = (2, 2)))\n",
        "model.add(Dropout(0.25))\n",
        "\n",
        "model.add(Conv2D(128, (3, 3), activation = 'relu'))\n",
        "model.add(MaxPooling2D(pool_size = (2, 2)))\n",
        "model.add(Dropout(0.5))\n",
        "\n",
        "model.add(Flatten())\n",
        "model.add(Dense(64, activation = 'relu'))\n",
        "model.add(Dropout(0.5))\n",
        "model.add(Dense(1, activation = 'sigmoid'))"
      ],
      "execution_count": null,
      "outputs": []
    },
    {
      "cell_type": "markdown",
      "metadata": {
        "id": "H3LtoW8l0D0E"
      },
      "source": [
        "###**Compiling the Model:**\n",
        "\n",
        "After successfully creating the model, we have to compile the model with three parameters like `loss`, `optimizer`, and `metrics`. \n",
        "\n",
        "- We use `binary_crossentropy` as we are working on binary classification problem. \n",
        "- Among the optimizers like `adam`, `adagrad`, `sgd`, and `rmsprop`, we have selected the `adam` optimizer with its default learning rate (0.001). \n",
        "- We have taken `accuracy` from metrics. "
      ]
    },
    {
      "cell_type": "code",
      "metadata": {
        "id": "bTeN5T1sAYl5"
      },
      "source": [
        "# Compile the model\n",
        "model.compile(loss = \"binary_crossentropy\", \n",
        "              optimizer = 'adam', \n",
        "              metrics = ['accuracy'])"
      ],
      "execution_count": null,
      "outputs": []
    },
    {
      "cell_type": "code",
      "metadata": {
        "id": "3IYwxxe5BUAm"
      },
      "source": [
        "# Summary of the Model\n",
        "model.summary()"
      ],
      "execution_count": null,
      "outputs": []
    },
    {
      "cell_type": "markdown",
      "metadata": {
        "id": "1dkStD6V2v-p"
      },
      "source": [
        "###**Processing the Training and Testing Images:**\n",
        "\n",
        "As we are having less number of images we have to apply some Data Augmentation techniques for making our training process more effecient and time saving too. For this we can use `ImageDataGenerator` which can rescale, flip, shrink and apply many more transformations on our images to make the network learn better. \n",
        "\n",
        "Then we create train generator and validation generator with batch size of 32 images. "
      ]
    },
    {
      "cell_type": "code",
      "metadata": {
        "id": "WdfDcdUUBYHT"
      },
      "source": [
        "# Processing the images\n",
        "train_datagen = image.ImageDataGenerator(\n",
        "    rescale = 1/255.,\n",
        "    shear_range = 0.2,\n",
        "    zoom_range = 0.2,\n",
        "    horizontal_flip = True\n",
        ")\n",
        "\n",
        "val_datagen = image.ImageDataGenerator(rescale = 1/255.)"
      ],
      "execution_count": null,
      "outputs": []
    },
    {
      "cell_type": "code",
      "metadata": {
        "id": "FHv_FIOCCaw8"
      },
      "source": [
        "train_generator = train_datagen.flow_from_directory(\n",
        "    'Dataset/Train',\n",
        "    target_size = (224, 224),\n",
        "    batch_size = 32,\n",
        "    class_mode = 'binary'\n",
        ")"
      ],
      "execution_count": null,
      "outputs": []
    },
    {
      "cell_type": "code",
      "metadata": {
        "id": "rxsZQ3jZDDCD"
      },
      "source": [
        "val_generator = val_datagen.flow_from_directory(\n",
        "    'Dataset/Val',\n",
        "    target_size = (224, 224),\n",
        "    batch_size = 32,\n",
        "    class_mode = 'binary'  \n",
        ")"
      ],
      "execution_count": null,
      "outputs": []
    },
    {
      "cell_type": "markdown",
      "metadata": {
        "id": "OE0-wGXa4fE-"
      },
      "source": [
        "###**Training the Model:**\n",
        "\n"
      ]
    },
    {
      "cell_type": "code",
      "metadata": {
        "id": "fEe2he3rET_D"
      },
      "source": [
        "history = model.fit(\n",
        "    train_generator,\n",
        "    steps_per_epoch = 8,\n",
        "    epochs = 20,\n",
        "    validation_data = val_generator,\n",
        "    validation_steps = 2\n",
        ")"
      ],
      "execution_count": null,
      "outputs": []
    },
    {
      "cell_type": "markdown",
      "metadata": {
        "id": "q0sGveO4tJo4"
      },
      "source": [
        "###**Evaluating the Model\"**"
      ]
    },
    {
      "cell_type": "code",
      "metadata": {
        "id": "_qQmazMZGD0R"
      },
      "source": [
        "# Evaluate the model\n",
        "model.evaluate(val_generator)"
      ],
      "execution_count": null,
      "outputs": []
    },
    {
      "cell_type": "code",
      "metadata": {
        "id": "2s1oxwNagAiy"
      },
      "source": [
        "train_acc = round(history.history['accuracy'][-1], 2) * 100\n",
        "val_acc = round(history.history['val_accuracy'][-1], 2) * 100"
      ],
      "execution_count": null,
      "outputs": []
    },
    {
      "cell_type": "code",
      "metadata": {
        "id": "n7N2qaEKh6-b"
      },
      "source": [
        "print(f\"The Training accuracy is {train_acc}%\")\n",
        "print(f\"The validation accuracy is {val_acc}%\")"
      ],
      "execution_count": null,
      "outputs": []
    },
    {
      "cell_type": "markdown",
      "metadata": {
        "id": "oPfHrQlLtQhV"
      },
      "source": [
        "###**Saving the Model:**"
      ]
    },
    {
      "cell_type": "code",
      "metadata": {
        "id": "c47J0DebGRQH"
      },
      "source": [
        "model.save(f\"cnn-cxr-acc-{val_acc}_bs-{batch_size}_epochs-{epochs}.h5\")\n",
        "print(f\"Model saved with {val_acc} % accuracy.\")"
      ],
      "execution_count": null,
      "outputs": []
    },
    {
      "cell_type": "markdown",
      "metadata": {
        "id": "iuL2vWxXmgbs"
      },
      "source": [
        "###**Creating a Classification Method:**"
      ]
    },
    {
      "cell_type": "code",
      "metadata": {
        "id": "hkD3I8f2nsan"
      },
      "source": [
        "def classify_cxr(img_path):\n",
        "  # Dimensions of input image\n",
        "  img_width, img_height = 224, 224\n",
        "\n",
        "  # Load the saved model\n",
        "  model = load_model('cnn-cxr-acc-98.44_bs-32_epochs-20.h5')\n",
        "  model.compile(loss='binary_crossentropy',\n",
        "                optimizer='adam',\n",
        "                metrics=['accuracy'])\n",
        "\n",
        "  # Loading the image and reshaping it\n",
        "  img = image.load_img(img_path, target_size = (img_width, img_height))\n",
        "  x = image.img_to_array(img)\n",
        "  x = np.expand_dims(x, axis=0)\n",
        "  images = np.vstack([x])\n",
        "  # Predicting on X-Ray images\n",
        "  predict_class = model.predict(images)\n",
        "  # Returns the predicted class either 1 or 0\n",
        "  return predict_class[0][0]\n",
        "\n",
        "# Selecting images from our Dataset\n",
        "img_base_path = \"Dataset/Train/Normal/\"\n",
        "img_names = os.listdir(img_base_path)\n",
        "img_path = img_base_path + img_names[10]\n",
        "\n",
        "# Obtaining the classification results\n",
        "classified = classify_cxr(img_path)\n",
        "\n",
        "# Printing out the Resuls\n",
        "if (int(classified) == 0):\n",
        "  print(f\"Reslut: COVID Chest XRay\")\n",
        "else:\n",
        "  print(f\"Reslut: Non-COVID Chest XRay\")"
      ],
      "execution_count": null,
      "outputs": []
    },
    {
      "cell_type": "code",
      "metadata": {
        "id": "fm1mYp-UucT3"
      },
      "source": [
        "!pip freeze > requirements.txt"
      ],
      "execution_count": null,
      "outputs": []
    }
  ]
}